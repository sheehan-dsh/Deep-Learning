{
 "cells": [
  {
   "cell_type": "code",
   "execution_count": 1,
   "metadata": {},
   "outputs": [],
   "source": [
    "#初步搭建神经网络\n",
    "import numpy as np\n",
    "from time import time\n",
    "import tensorflow as tf\n",
    "import matplotlib.pyplot as plt\n",
    "import tensorflow.examples.tutorials.mnist.input_data as input_data"
   ]
  },
  {
   "cell_type": "code",
   "execution_count": 2,
   "metadata": {},
   "outputs": [],
   "source": [
    "#储存模型粒度，多少个epoch存储一次\n",
    "save_step = 50\n",
    "#创建保存模型文件的目录\n",
    "import os\n",
    "model_dir = './model/'\n",
    "if not os.path.exists(model_dir):\n",
    "    os.makedirs(model_dir)\n"
   ]
  },
  {
   "cell_type": "code",
   "execution_count": 3,
   "metadata": {},
   "outputs": [
    {
     "name": "stdout",
     "output_type": "stream",
     "text": [
      "WARNING:tensorflow:From <ipython-input-3-274ce6dbe080>:1: read_data_sets (from tensorflow.contrib.learn.python.learn.datasets.mnist) is deprecated and will be removed in a future version.\n",
      "Instructions for updating:\n",
      "Please use alternatives such as official/mnist/dataset.py from tensorflow/models.\n",
      "WARNING:tensorflow:From D:\\Anaconda3\\envs\\tensorflow\\lib\\site-packages\\tensorflow\\contrib\\learn\\python\\learn\\datasets\\mnist.py:260: maybe_download (from tensorflow.contrib.learn.python.learn.datasets.base) is deprecated and will be removed in a future version.\n",
      "Instructions for updating:\n",
      "Please write your own downloading logic.\n",
      "WARNING:tensorflow:From D:\\Anaconda3\\envs\\tensorflow\\lib\\site-packages\\tensorflow\\contrib\\learn\\python\\learn\\datasets\\mnist.py:262: extract_images (from tensorflow.contrib.learn.python.learn.datasets.mnist) is deprecated and will be removed in a future version.\n",
      "Instructions for updating:\n",
      "Please use tf.data to implement this functionality.\n",
      "Extracting MNIST_data/train-images-idx3-ubyte.gz\n",
      "WARNING:tensorflow:From D:\\Anaconda3\\envs\\tensorflow\\lib\\site-packages\\tensorflow\\contrib\\learn\\python\\learn\\datasets\\mnist.py:267: extract_labels (from tensorflow.contrib.learn.python.learn.datasets.mnist) is deprecated and will be removed in a future version.\n",
      "Instructions for updating:\n",
      "Please use tf.data to implement this functionality.\n",
      "Extracting MNIST_data/train-labels-idx1-ubyte.gz\n",
      "WARNING:tensorflow:From D:\\Anaconda3\\envs\\tensorflow\\lib\\site-packages\\tensorflow\\contrib\\learn\\python\\learn\\datasets\\mnist.py:110: dense_to_one_hot (from tensorflow.contrib.learn.python.learn.datasets.mnist) is deprecated and will be removed in a future version.\n",
      "Instructions for updating:\n",
      "Please use tf.one_hot on tensors.\n",
      "Extracting MNIST_data/t10k-images-idx3-ubyte.gz\n",
      "Extracting MNIST_data/t10k-labels-idx1-ubyte.gz\n",
      "WARNING:tensorflow:From D:\\Anaconda3\\envs\\tensorflow\\lib\\site-packages\\tensorflow\\contrib\\learn\\python\\learn\\datasets\\mnist.py:290: DataSet.__init__ (from tensorflow.contrib.learn.python.learn.datasets.mnist) is deprecated and will be removed in a future version.\n",
      "Instructions for updating:\n",
      "Please use alternatives such as official/mnist/dataset.py from tensorflow/models.\n"
     ]
    }
   ],
   "source": [
    "mnist = input_data.read_data_sets('MNIST_data/',one_hot = True)"
   ]
  },
  {
   "cell_type": "code",
   "execution_count": 4,
   "metadata": {},
   "outputs": [],
   "source": [
    "def plot_image(image):\n",
    "    plt.imshow(image.reshape(28,28),cmap = 'binary')\n",
    "    plt.show()"
   ]
  },
  {
   "cell_type": "code",
   "execution_count": 5,
   "metadata": {},
   "outputs": [
    {
     "data": {
      "image/png": "[encoded data removed]",
      "text/plain": [
       "<Figure size 432x288 with 1 Axes>"
      ]
     },
     "metadata": {
      "needs_background": "light"
     },
     "output_type": "display_data"
    },
    {
     "name": "stdout",
     "output_type": "stream",
     "text": [
      "3\n"
     ]
    }
   ],
   "source": [
    "plot_image(mnist.train.images[1])\n",
    "print(np.argmax(mnist.train.labels[1]))"
   ]
  },
  {
   "cell_type": "code",
   "execution_count": 6,
   "metadata": {},
   "outputs": [
    {
     "name": "stdout",
     "output_type": "stream",
     "text": [
      "WARNING:tensorflow:From D:\\Anaconda3\\envs\\tensorflow\\lib\\site-packages\\tensorflow\\python\\framework\\op_def_library.py:263: colocate_with (from tensorflow.python.framework.ops) is deprecated and will be removed in a future version.\n",
      "Instructions for updating:\n",
      "Colocations handled automatically by placer.\n"
     ]
    }
   ],
   "source": [
    "#定义占用符\n",
    "x = tf.placeholder(tf.float32,[None,784])\n",
    "y = tf.placeholder(tf.float32,[None,10])\n",
    "#定义隐藏层神经元个数\n",
    "HNN_num = 256\n",
    "#定义参数\n",
    "w1 = tf.Variable(tf.random_normal([784,HNN_num]))\n",
    "b1 = tf.Variable(tf.zeros([HNN_num]))\n",
    "Y1 = tf.nn.relu(tf.matmul(x,w1) + b1)\n",
    "w2 = tf.Variable(tf.random_normal([HNN_num,10]))\n",
    "b2 = tf.Variable(tf.zeros([10]))\n",
    "forward = tf.matmul(Y1,w2) + b2\n",
    "Y2 = tf.nn.softmax(tf.matmul(Y1,w2) + b2)\n"
   ]
  },
  {
   "cell_type": "code",
   "execution_count": 16,
   "metadata": {},
   "outputs": [],
   "source": [
    "#定义占用符\n",
    "x = tf.placeholder(tf.float32,[None,784])\n",
    "y = tf.placeholder(tf.float32,[None,10])\n",
    "#定义隐藏层神经元个数\n",
    "HNN_num = 256\n",
    "layer_1 = tf.layers.dense(x,HNN_num)\n",
    "layer_2 = tf.layers.dense(layer_1,10)\n",
    "Y2 = tf.nn.softmax(layer_2)"
   ]
  },
  {
   "cell_type": "code",
   "execution_count": 17,
   "metadata": {},
   "outputs": [],
   "source": [
    "#定义超参数\n",
    "train_epoch = 50\n",
    "learning_rate = 0.01\n",
    "batch_size= 100\n",
    "total_batch = int(mnist.train.num_examples/batch_size)\n",
    "display_step = 1"
   ]
  },
  {
   "cell_type": "code",
   "execution_count": 18,
   "metadata": {},
   "outputs": [],
   "source": [
    "#定义交叉熵损失函数\n",
    "#若采用原先的计算损失函数的办法，由于Y2会接近1使得log之后的值趋近于无穷而无法计算\n",
    "# loss_function = tf.reduce_mean(-tf.reduce_sum(y*tf.log(Y2),reduction_indices=1))\n",
    "#采用专门对交叉熵损失函数定义的新方法，注意这里输入的值是没有经过softmax处理之前的值\n",
    "loss_function = tf.reduce_mean(tf.nn.softmax_cross_entropy_with_logits_v2(logits=layer_2,labels=y))\n",
    "#定义优化器\n",
    "optimizer = tf.train.GradientDescentOptimizer(learning_rate).minimize(loss_function)\n"
   ]
  },
  {
   "cell_type": "code",
   "execution_count": 19,
   "metadata": {},
   "outputs": [],
   "source": [
    "correct_prediction = tf.equal(tf.argmax(Y2,1),tf.argmax(y,1))\n",
    "accuracy = tf.reduce_mean(tf.cast(correct_prediction,tf.float32))"
   ]
  },
  {
   "cell_type": "code",
   "execution_count": null,
   "metadata": {
    "scrolled": true
   },
   "outputs": [],
   "source": [
    "#ckpt模型只包含variable对象序列化后的数据，不包含图结构，所以必须提供结构，而pb文件包含计算图，但变量已经固定变为常量不能继续训练\n",
    "saver = tf.train.Saver()\n",
    "sess = tf.Session()\n",
    "sess.run(tf.global_variables_initializer())\n",
    "startTime = time()\n",
    "for epoch in range(train_epoch):\n",
    "    for batch in range(batch_size):\n",
    "        xs,ys = mnist.train.next_batch(batch_size)\n",
    "        sess.run(optimizer,feed_dict = {x:xs,y:ys})\n",
    "        loss,acc = sess.run([loss_function,accuracy],feed_dict={x:mnist.validation.images,y:mnist.validation.labels})\n",
    "    if (epoch +1)% display_step == 0:\n",
    "        print('train epoch' ,(epoch+1),'loss',loss,'acc',acc)\n",
    "    if (epoch +1)%save_step ==0:\n",
    "        saver.save(sess,os.path.join(model_dir,'mnist_model_{:06d}.ckpt'.format(epoch+1)))\n",
    "during = time()-startTime\n",
    "print('finish,cost',during)"
   ]
  },
  {
   "cell_type": "code",
   "execution_count": 27,
   "metadata": {},
   "outputs": [
    {
     "name": "stdout",
     "output_type": "stream",
     "text": [
      "train epoch 1 loss 1.090214 acc 0.7732\n",
      "train epoch 2 loss 0.7769525 acc 0.8284\n",
      "train epoch 3 loss 0.6420969 acc 0.8492\n",
      "train epoch 4 loss 0.5665587 acc 0.8664\n",
      "train epoch 5 loss 0.51866376 acc 0.8726\n",
      "train epoch 6 loss 0.48477578 acc 0.8792\n",
      "train epoch 7 loss 0.4604421 acc 0.882\n",
      "train epoch 8 loss 0.4408516 acc 0.8882\n",
      "train epoch 9 loss 0.42430606 acc 0.8914\n",
      "train epoch 10 loss 0.41120997 acc 0.8946\n",
      "train epoch 11 loss 0.40017518 acc 0.8944\n",
      "train epoch 12 loss 0.39051354 acc 0.894\n",
      "train epoch 13 loss 0.3826254 acc 0.8988\n",
      "train epoch 14 loss 0.37553203 acc 0.8992\n",
      "train epoch 15 loss 0.36967352 acc 0.9\n",
      "train epoch 16 loss 0.36341232 acc 0.9016\n",
      "train epoch 17 loss 0.35834733 acc 0.9026\n",
      "train epoch 18 loss 0.35305047 acc 0.9046\n",
      "train epoch 19 loss 0.34961691 acc 0.906\n",
      "train epoch 20 loss 0.3453623 acc 0.9054\n",
      "train epoch 21 loss 0.34248003 acc 0.907\n",
      "train epoch 22 loss 0.3381401 acc 0.9066\n",
      "train epoch 23 loss 0.33518732 acc 0.908\n",
      "train epoch 24 loss 0.33334956 acc 0.9092\n",
      "train epoch 25 loss 0.33019042 acc 0.9082\n",
      "train epoch 26 loss 0.32866886 acc 0.9096\n",
      "train epoch 27 loss 0.32536662 acc 0.9098\n",
      "train epoch 28 loss 0.32347614 acc 0.9118\n",
      "train epoch 29 loss 0.32196686 acc 0.9134\n",
      "train epoch 30 loss 0.31986773 acc 0.911\n",
      "train epoch 31 loss 0.31770134 acc 0.913\n",
      "train epoch 32 loss 0.31570533 acc 0.9126\n",
      "train epoch 33 loss 0.31427744 acc 0.9132\n",
      "train epoch 34 loss 0.31239763 acc 0.914\n",
      "train epoch 35 loss 0.31148946 acc 0.9134\n",
      "train epoch 36 loss 0.3103267 acc 0.9142\n",
      "train epoch 37 loss 0.30839562 acc 0.9162\n",
      "train epoch 38 loss 0.30803746 acc 0.9152\n",
      "train epoch 39 loss 0.3060226 acc 0.9138\n",
      "train epoch 40 loss 0.30475563 acc 0.917\n",
      "train epoch 41 loss 0.30326807 acc 0.9164\n",
      "train epoch 42 loss 0.30247658 acc 0.9182\n",
      "train epoch 43 loss 0.30163628 acc 0.9164\n",
      "train epoch 44 loss 0.30105975 acc 0.916\n",
      "train epoch 45 loss 0.30067396 acc 0.9164\n",
      "train epoch 46 loss 0.29945356 acc 0.9166\n",
      "train epoch 47 loss 0.29761192 acc 0.9198\n",
      "train epoch 48 loss 0.2975121 acc 0.9178\n",
      "train epoch 49 loss 0.29648912 acc 0.9176\n",
      "train epoch 50 loss 0.2952137 acc 0.9208\n"
     ]
    },
    {
     "ename": "AssertionError",
     "evalue": "Variable:0 is not in graph",
     "output_type": "error",
     "traceback": [
      "\u001b[1;31m---------------------------------------------------------------------------\u001b[0m",
      "\u001b[1;31mAssertionError\u001b[0m                            Traceback (most recent call last)",
      "\u001b[1;32m<ipython-input-27-e58b4556ae80>\u001b[0m in \u001b[0;36m<module>\u001b[1;34m\u001b[0m\n\u001b[0;32m     18\u001b[0m     \u001b[0msess\u001b[0m\u001b[1;33m,\u001b[0m\u001b[1;33m\u001b[0m\u001b[1;33m\u001b[0m\u001b[0m\n\u001b[0;32m     19\u001b[0m     \u001b[0mgraph_def\u001b[0m\u001b[1;33m,\u001b[0m\u001b[1;33m\u001b[0m\u001b[1;33m\u001b[0m\u001b[0m\n\u001b[1;32m---> 20\u001b[1;33m    \u001b[0moutput_node_names\u001b[0m\u001b[1;33m=\u001b[0m\u001b[1;33m[\u001b[0m\u001b[0mvar_list\u001b[0m\u001b[1;33m[\u001b[0m\u001b[0mi\u001b[0m\u001b[1;33m]\u001b[0m\u001b[1;33m.\u001b[0m\u001b[0mname\u001b[0m \u001b[1;32mfor\u001b[0m \u001b[0mi\u001b[0m \u001b[1;32min\u001b[0m \u001b[0mrange\u001b[0m\u001b[1;33m(\u001b[0m\u001b[0mlen\u001b[0m\u001b[1;33m(\u001b[0m\u001b[0mvar_list\u001b[0m\u001b[1;33m)\u001b[0m\u001b[1;33m)\u001b[0m\u001b[1;33m]\u001b[0m\u001b[1;33m\u001b[0m\u001b[1;33m\u001b[0m\u001b[0m\n\u001b[0m\u001b[0;32m     21\u001b[0m )\n\u001b[0;32m     22\u001b[0m \u001b[1;31m# tf.train.write_graph(constant_graph, './output', 'expert-graph.pb', as_text=False)\u001b[0m\u001b[1;33m\u001b[0m\u001b[1;33m\u001b[0m\u001b[1;33m\u001b[0m\u001b[0m\n",
      "\u001b[1;32mD:\\Anaconda3\\envs\\tensorflow\\lib\\site-packages\\tensorflow\\python\\util\\deprecation.py\u001b[0m in \u001b[0;36mnew_func\u001b[1;34m(*args, **kwargs)\u001b[0m\n\u001b[0;32m    322\u001b[0m               \u001b[1;34m'in a future version'\u001b[0m \u001b[1;32mif\u001b[0m \u001b[0mdate\u001b[0m \u001b[1;32mis\u001b[0m \u001b[1;32mNone\u001b[0m \u001b[1;32melse\u001b[0m \u001b[1;33m(\u001b[0m\u001b[1;34m'after %s'\u001b[0m \u001b[1;33m%\u001b[0m \u001b[0mdate\u001b[0m\u001b[1;33m)\u001b[0m\u001b[1;33m,\u001b[0m\u001b[1;33m\u001b[0m\u001b[1;33m\u001b[0m\u001b[0m\n\u001b[0;32m    323\u001b[0m               instructions)\n\u001b[1;32m--> 324\u001b[1;33m       \u001b[1;32mreturn\u001b[0m \u001b[0mfunc\u001b[0m\u001b[1;33m(\u001b[0m\u001b[1;33m*\u001b[0m\u001b[0margs\u001b[0m\u001b[1;33m,\u001b[0m \u001b[1;33m**\u001b[0m\u001b[0mkwargs\u001b[0m\u001b[1;33m)\u001b[0m\u001b[1;33m\u001b[0m\u001b[1;33m\u001b[0m\u001b[0m\n\u001b[0m\u001b[0;32m    325\u001b[0m     return tf_decorator.make_decorator(\n\u001b[0;32m    326\u001b[0m         \u001b[0mfunc\u001b[0m\u001b[1;33m,\u001b[0m \u001b[0mnew_func\u001b[0m\u001b[1;33m,\u001b[0m \u001b[1;34m'deprecated'\u001b[0m\u001b[1;33m,\u001b[0m\u001b[1;33m\u001b[0m\u001b[1;33m\u001b[0m\u001b[0m\n",
      "\u001b[1;32mD:\\Anaconda3\\envs\\tensorflow\\lib\\site-packages\\tensorflow\\python\\framework\\graph_util_impl.py\u001b[0m in \u001b[0;36mconvert_variables_to_constants\u001b[1;34m(sess, input_graph_def, output_node_names, variable_names_whitelist, variable_names_blacklist)\u001b[0m\n\u001b[0;32m    243\u001b[0m   \u001b[1;31m# This graph only includes the nodes needed to evaluate the output nodes, and\u001b[0m\u001b[1;33m\u001b[0m\u001b[1;33m\u001b[0m\u001b[1;33m\u001b[0m\u001b[0m\n\u001b[0;32m    244\u001b[0m   \u001b[1;31m# removes unneeded nodes like those involved in saving and assignment.\u001b[0m\u001b[1;33m\u001b[0m\u001b[1;33m\u001b[0m\u001b[1;33m\u001b[0m\u001b[0m\n\u001b[1;32m--> 245\u001b[1;33m   \u001b[0minference_graph\u001b[0m \u001b[1;33m=\u001b[0m \u001b[0mextract_sub_graph\u001b[0m\u001b[1;33m(\u001b[0m\u001b[0minput_graph_def\u001b[0m\u001b[1;33m,\u001b[0m \u001b[0moutput_node_names\u001b[0m\u001b[1;33m)\u001b[0m\u001b[1;33m\u001b[0m\u001b[1;33m\u001b[0m\u001b[0m\n\u001b[0m\u001b[0;32m    246\u001b[0m \u001b[1;33m\u001b[0m\u001b[0m\n\u001b[0;32m    247\u001b[0m   \u001b[0mfound_variables\u001b[0m \u001b[1;33m=\u001b[0m \u001b[1;33m{\u001b[0m\u001b[1;33m}\u001b[0m\u001b[1;33m\u001b[0m\u001b[1;33m\u001b[0m\u001b[0m\n",
      "\u001b[1;32mD:\\Anaconda3\\envs\\tensorflow\\lib\\site-packages\\tensorflow\\python\\util\\deprecation.py\u001b[0m in \u001b[0;36mnew_func\u001b[1;34m(*args, **kwargs)\u001b[0m\n\u001b[0;32m    322\u001b[0m               \u001b[1;34m'in a future version'\u001b[0m \u001b[1;32mif\u001b[0m \u001b[0mdate\u001b[0m \u001b[1;32mis\u001b[0m \u001b[1;32mNone\u001b[0m \u001b[1;32melse\u001b[0m \u001b[1;33m(\u001b[0m\u001b[1;34m'after %s'\u001b[0m \u001b[1;33m%\u001b[0m \u001b[0mdate\u001b[0m\u001b[1;33m)\u001b[0m\u001b[1;33m,\u001b[0m\u001b[1;33m\u001b[0m\u001b[1;33m\u001b[0m\u001b[0m\n\u001b[0;32m    323\u001b[0m               instructions)\n\u001b[1;32m--> 324\u001b[1;33m       \u001b[1;32mreturn\u001b[0m \u001b[0mfunc\u001b[0m\u001b[1;33m(\u001b[0m\u001b[1;33m*\u001b[0m\u001b[0margs\u001b[0m\u001b[1;33m,\u001b[0m \u001b[1;33m**\u001b[0m\u001b[0mkwargs\u001b[0m\u001b[1;33m)\u001b[0m\u001b[1;33m\u001b[0m\u001b[1;33m\u001b[0m\u001b[0m\n\u001b[0m\u001b[0;32m    325\u001b[0m     return tf_decorator.make_decorator(\n\u001b[0;32m    326\u001b[0m         \u001b[0mfunc\u001b[0m\u001b[1;33m,\u001b[0m \u001b[0mnew_func\u001b[0m\u001b[1;33m,\u001b[0m \u001b[1;34m'deprecated'\u001b[0m\u001b[1;33m,\u001b[0m\u001b[1;33m\u001b[0m\u001b[1;33m\u001b[0m\u001b[0m\n",
      "\u001b[1;32mD:\\Anaconda3\\envs\\tensorflow\\lib\\site-packages\\tensorflow\\python\\framework\\graph_util_impl.py\u001b[0m in \u001b[0;36mextract_sub_graph\u001b[1;34m(graph_def, dest_nodes)\u001b[0m\n\u001b[0;32m    179\u001b[0m   name_to_input_name, name_to_node, name_to_seq_num = _extract_graph_summary(\n\u001b[0;32m    180\u001b[0m       graph_def)\n\u001b[1;32m--> 181\u001b[1;33m   \u001b[0m_assert_nodes_are_present\u001b[0m\u001b[1;33m(\u001b[0m\u001b[0mname_to_node\u001b[0m\u001b[1;33m,\u001b[0m \u001b[0mdest_nodes\u001b[0m\u001b[1;33m)\u001b[0m\u001b[1;33m\u001b[0m\u001b[1;33m\u001b[0m\u001b[0m\n\u001b[0m\u001b[0;32m    182\u001b[0m \u001b[1;33m\u001b[0m\u001b[0m\n\u001b[0;32m    183\u001b[0m   \u001b[0mnodes_to_keep\u001b[0m \u001b[1;33m=\u001b[0m \u001b[0m_bfs_for_reachable_nodes\u001b[0m\u001b[1;33m(\u001b[0m\u001b[0mdest_nodes\u001b[0m\u001b[1;33m,\u001b[0m \u001b[0mname_to_input_name\u001b[0m\u001b[1;33m)\u001b[0m\u001b[1;33m\u001b[0m\u001b[1;33m\u001b[0m\u001b[0m\n",
      "\u001b[1;32mD:\\Anaconda3\\envs\\tensorflow\\lib\\site-packages\\tensorflow\\python\\framework\\graph_util_impl.py\u001b[0m in \u001b[0;36m_assert_nodes_are_present\u001b[1;34m(name_to_node, nodes)\u001b[0m\n\u001b[0;32m    135\u001b[0m   \u001b[1;34m\"\"\"Assert that nodes are present in the graph.\"\"\"\u001b[0m\u001b[1;33m\u001b[0m\u001b[1;33m\u001b[0m\u001b[0m\n\u001b[0;32m    136\u001b[0m   \u001b[1;32mfor\u001b[0m \u001b[0md\u001b[0m \u001b[1;32min\u001b[0m \u001b[0mnodes\u001b[0m\u001b[1;33m:\u001b[0m\u001b[1;33m\u001b[0m\u001b[1;33m\u001b[0m\u001b[0m\n\u001b[1;32m--> 137\u001b[1;33m     \u001b[1;32massert\u001b[0m \u001b[0md\u001b[0m \u001b[1;32min\u001b[0m \u001b[0mname_to_node\u001b[0m\u001b[1;33m,\u001b[0m \u001b[1;34m\"%s is not in graph\"\u001b[0m \u001b[1;33m%\u001b[0m \u001b[0md\u001b[0m\u001b[1;33m\u001b[0m\u001b[1;33m\u001b[0m\u001b[0m\n\u001b[0m\u001b[0;32m    138\u001b[0m \u001b[1;33m\u001b[0m\u001b[0m\n\u001b[0;32m    139\u001b[0m \u001b[1;33m\u001b[0m\u001b[0m\n",
      "\u001b[1;31mAssertionError\u001b[0m: Variable:0 is not in graph"
     ]
    }
   ],
   "source": [
    "from tensorflow.python.framework import graph_util\n",
    "saver = tf.train.Saver()\n",
    "sess = tf.Session()\n",
    "var_list=tf.global_variables()\n",
    "sess.run(tf.global_variables_initializer())\n",
    "startTime = time()\n",
    "graph_def = tf.get_default_graph().as_graph_def()\n",
    "for epoch in range(train_epoch):\n",
    "    for batch in range(batch_size):\n",
    "        xs,ys = mnist.train.next_batch(batch_size)\n",
    "        sess.run(optimizer,feed_dict = {x:xs,y:ys})\n",
    "        loss,acc = sess.run([loss_function,accuracy],feed_dict={x:mnist.validation.images,y:mnist.validation.labels})\n",
    "    if (epoch +1)% display_step == 0:\n",
    "        print('train epoch' ,(epoch+1),'loss',loss,'acc',acc)\n",
    "#     if (epoch +1)%save_step ==0:\n",
    "#         saver.save(sess,os.path.join(model_dir,'mnist_model_{:06d}.ckpt'.format(epoch+1)))\n",
    "# output_graph_def = graph_util.convert_variables_to_constants(\n",
    "#     sess, \n",
    "#     graph_def,\n",
    "#    output_node_names=[var_list[i].name for i in range(len(var_list))]\n",
    "# )\n",
    "# tf.train.write_graph(constant_graph, './output', 'expert-graph.pb', as_text=False)\n",
    "with tf.gfile.GFile('./model/mnist_model.pb', 'wb') as fid:\n",
    "    serialized_graph = output_graph_def.SerializeToString()\n",
    "    fid.write(serialized_graph)\n",
    "during = time()-startTime\n",
    "print('finish,cost',during)"
   ]
  },
  {
   "cell_type": "code",
   "execution_count": 21,
   "metadata": {},
   "outputs": [
    {
     "name": "stdout",
     "output_type": "stream",
     "text": [
      "0.9181\n"
     ]
    }
   ],
   "source": [
    "#查看验证集上的准确度\n",
    "acc_test = sess.run(accuracy,feed_dict={x:mnist.test.images,y:mnist.test.labels})\n",
    "print(acc_test)"
   ]
  },
  {
   "cell_type": "code",
   "execution_count": 20,
   "metadata": {},
   "outputs": [
    {
     "name": "stdout",
     "output_type": "stream",
     "text": [
      "INFO:tensorflow:Restoring parameters from ./model/mnist_model_000050.ckpt\n"
     ]
    }
   ],
   "source": [
    "#创建并还原模型，前提是必须得有网络结构一样的模型框架，ckpt模型的应用\n",
    "saver = tf.train.Saver()\n",
    "sess = tf.Session()\n",
    "sess.run(tf.global_variables_initializer())\n",
    "model = tf.train.get_checkpoint_state(model_dir)\n",
    "if model and model.model_checkpoint_path:\n",
    "    saver.restore(sess,model.model_checkpoint_path)"
   ]
  },
  {
   "cell_type": "code",
   "execution_count": null,
   "metadata": {},
   "outputs": [],
   "source": [
    "#导入model\n",
    "def load_model(path_to_model.pb):\n",
    "    if not os.path.exists(path_to_model.pb):\n",
    "        raise ValueError(\"'path_to_model.pb' is not exist.\")\n",
    "\n",
    "    model_graph = tf.Graph()\n",
    "    with model_graph.as_default():\n",
    "        od_graph_def = tf.GraphDef()\n",
    "        with tf.gfile.GFile(path_to_model.pb, 'rb') as fid:\n",
    "            serialized_graph = fid.read()\n",
    "            od_graph_def.ParseFromString(serialized_graph)\n",
    "            tf.import_graph_def(od_graph_def, name='')\n",
    "    return model_graph"
   ]
  },
  {
   "cell_type": "code",
   "execution_count": null,
   "metadata": {},
   "outputs": [],
   "source": [
    "#使用model\n",
    "model_graph = load_model('./xxx/xxx.pb')\n",
    "\n",
    "inputs = model_graph.get_tensor_by_name('inputs:0')\n",
    "prediction = model_graph.get_tensor_by_name('prediction:0')\n",
    "\n",
    "with model_graph.as_default():\n",
    "    with tf.Session(graph=model_graph) as sess:\n",
    "      #查看验证集上的准确度\n",
    "        acc_test = sess.run(accuracy,feed_dict={x:mnist.test.images,y:mnist.test.labels})\n",
    "        print(acc_test)"
   ]
  },
  {
   "cell_type": "code",
   "execution_count": 14,
   "metadata": {},
   "outputs": [],
   "source": [
    "def predict(num):\n",
    "    images = mnist.test.images[num]\n",
    "    plot_image(images)\n",
    "    images = images.reshape(-1,784)\n",
    "    result = sess.run(tf.argmax(Y2,1),feed_dict = {x : images})\n",
    "    print(result)"
   ]
  },
  {
   "cell_type": "code",
   "execution_count": 22,
   "metadata": {},
   "outputs": [
    {
     "data": {
      "image/png": "[encoded data removed]",
      "text/plain": [
       "<Figure size 432x288 with 1 Axes>"
      ]
     },
     "metadata": {
      "needs_background": "light"
     },
     "output_type": "display_data"
    },
    {
     "name": "stdout",
     "output_type": "stream",
     "text": [
      "[4]\n"
     ]
    }
   ],
   "source": [
    "predict(6)"
   ]
  },
  {
   "cell_type": "code",
   "execution_count": null,
   "metadata": {},
   "outputs": [],
   "source": [
    "compare = sess.run(tf.argmax(Y2,1),feed_dict = {x:mnist.test.images})==np.argmax(mnist.test.labels,1)\n",
    "err_list = [i for i in range(len(compare)) if compare[i]==False]\n",
    "# print(err_list,len(err_list))"
   ]
  },
  {
   "cell_type": "code",
   "execution_count": null,
   "metadata": {},
   "outputs": [],
   "source": []
  }
 ],
 "metadata": {
  "kernelspec": {
   "display_name": "Python 3",
   "language": "python",
   "name": "python3"
  },
  "language_info": {
   "codemirror_mode": {
    "name": "ipython",
    "version": 3
   },
   "file_extension": ".py",
   "mimetype": "text/x-python",
   "name": "python",
   "nbconvert_exporter": "python",
   "pygments_lexer": "ipython3",
   "version": "3.6.8"
  }
 },
 "nbformat": 4,
 "nbformat_minor": 2
}
