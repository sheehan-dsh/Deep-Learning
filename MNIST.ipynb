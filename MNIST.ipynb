{
 "cells": [
  {
   "cell_type": "code",
   "execution_count": 1,
   "metadata": {},
   "outputs": [],
   "source": [
    "#初步搭建神经网络\n",
    "import numpy as np\n",
    "import tensorflow as tf\n",
    "import matplotlib.pyplot as plt"
   ]
  },
  {
   "cell_type": "code",
   "execution_count": 2,
   "metadata": {},
   "outputs": [],
   "source": [
    "import tensorflow.examples.tutorials.mnist.input_data as input_data"
   ]
  },
  {
   "cell_type": "code",
   "execution_count": 3,
   "metadata": {
    "scrolled": true
   },
   "outputs": [
    {
     "name": "stdout",
     "output_type": "stream",
     "text": [
      "WARNING:tensorflow:From <ipython-input-3-274ce6dbe080>:1: read_data_sets (from tensorflow.contrib.learn.python.learn.datasets.mnist) is deprecated and will be removed in a future version.\n",
      "Instructions for updating:\n",
      "Please use alternatives such as official/mnist/dataset.py from tensorflow/models.\n",
      "WARNING:tensorflow:From D:\\Anaconda3\\envs\\tensorflow\\lib\\site-packages\\tensorflow\\contrib\\learn\\python\\learn\\datasets\\mnist.py:260: maybe_download (from tensorflow.contrib.learn.python.learn.datasets.base) is deprecated and will be removed in a future version.\n",
      "Instructions for updating:\n",
      "Please write your own downloading logic.\n",
      "WARNING:tensorflow:From D:\\Anaconda3\\envs\\tensorflow\\lib\\site-packages\\tensorflow\\contrib\\learn\\python\\learn\\datasets\\mnist.py:262: extract_images (from tensorflow.contrib.learn.python.learn.datasets.mnist) is deprecated and will be removed in a future version.\n",
      "Instructions for updating:\n",
      "Please use tf.data to implement this functionality.\n",
      "Extracting MNIST_data/train-images-idx3-ubyte.gz\n",
      "WARNING:tensorflow:From D:\\Anaconda3\\envs\\tensorflow\\lib\\site-packages\\tensorflow\\contrib\\learn\\python\\learn\\datasets\\mnist.py:267: extract_labels (from tensorflow.contrib.learn.python.learn.datasets.mnist) is deprecated and will be removed in a future version.\n",
      "Instructions for updating:\n",
      "Please use tf.data to implement this functionality.\n",
      "Extracting MNIST_data/train-labels-idx1-ubyte.gz\n",
      "WARNING:tensorflow:From D:\\Anaconda3\\envs\\tensorflow\\lib\\site-packages\\tensorflow\\contrib\\learn\\python\\learn\\datasets\\mnist.py:110: dense_to_one_hot (from tensorflow.contrib.learn.python.learn.datasets.mnist) is deprecated and will be removed in a future version.\n",
      "Instructions for updating:\n",
      "Please use tf.one_hot on tensors.\n",
      "Extracting MNIST_data/t10k-images-idx3-ubyte.gz\n",
      "Extracting MNIST_data/t10k-labels-idx1-ubyte.gz\n",
      "WARNING:tensorflow:From D:\\Anaconda3\\envs\\tensorflow\\lib\\site-packages\\tensorflow\\contrib\\learn\\python\\learn\\datasets\\mnist.py:290: DataSet.__init__ (from tensorflow.contrib.learn.python.learn.datasets.mnist) is deprecated and will be removed in a future version.\n",
      "Instructions for updating:\n",
      "Please use alternatives such as official/mnist/dataset.py from tensorflow/models.\n"
     ]
    }
   ],
   "source": [
    "mnist = input_data.read_data_sets('MNIST_data/',one_hot = True)"
   ]
  },
  {
   "cell_type": "code",
   "execution_count": 4,
   "metadata": {},
   "outputs": [
    {
     "name": "stdout",
     "output_type": "stream",
     "text": [
      "train 55000 ,validation 5000 ,test 10000\n"
     ]
    }
   ],
   "source": [
    "print('train',mnist.train.num_examples,\n",
    "         ',validation',mnist.validation.num_examples,\n",
    "         ',test',mnist.test.num_examples)"
   ]
  },
  {
   "cell_type": "code",
   "execution_count": 5,
   "metadata": {},
   "outputs": [
    {
     "name": "stdout",
     "output_type": "stream",
     "text": [
      "train images shape: (55000, 784) labels shape (55000, 10)\n"
     ]
    }
   ],
   "source": [
    "print('train images shape:',mnist.train.images.shape,\n",
    "     'labels shape',mnist.train.labels.shape)"
   ]
  },
  {
   "cell_type": "code",
   "execution_count": 6,
   "metadata": {},
   "outputs": [],
   "source": [
    "def plot_image(image):\n",
    "    plt.imshow(image.reshape(28,28),cmap = 'binary')\n",
    "    plt.show()"
   ]
  },
  {
   "cell_type": "code",
   "execution_count": 7,
   "metadata": {},
   "outputs": [
    {
     "data": {
      "image/png": "[encoded data removed]",
      "text/plain": [
       "<Figure size 432x288 with 1 Axes>"
      ]
     },
     "metadata": {
      "needs_background": "light"
     },
     "output_type": "display_data"
    }
   ],
   "source": [
    "plot_image(mnist.train.images[0])"
   ]
  },
  {
   "cell_type": "code",
   "execution_count": 8,
   "metadata": {},
   "outputs": [
    {
     "name": "stdout",
     "output_type": "stream",
     "text": [
      "[0. 0. 0. 0. 0. 0. 0. 1. 0. 0.]\n",
      "7\n"
     ]
    }
   ],
   "source": [
    "print(mnist.train.labels[0])\n",
    "print(np.argmax(mnist.train.labels[0]))"
   ]
  },
  {
   "cell_type": "code",
   "execution_count": 46,
   "metadata": {},
   "outputs": [],
   "source": [
    "#定义变量，占位符，参数\n",
    "x = tf.placeholder(tf.float32,[None,784])\n",
    "y = tf.placeholder(tf.float32,[None,10])\n",
    "w = tf.Variable(tf.random_normal([784,10]))\n",
    "b = tf.Variable(tf.random_normal([10]))\n",
    "#定义前向函数\n",
    "fore = tf.matmul(x,w)+b\n",
    "pre = tf.nn.softmax(fore)"
   ]
  },
  {
   "cell_type": "code",
   "execution_count": 10,
   "metadata": {},
   "outputs": [],
   "source": [
    "#定义超参数\n",
    "train_epoch = 50\n",
    "learning_rate = 0.01\n",
    "batch_size= 100\n",
    "total_batch = int(mnist.train.num_examples/batch_size)\n",
    "display_step = 1\n"
   ]
  },
  {
   "cell_type": "code",
   "execution_count": 47,
   "metadata": {},
   "outputs": [],
   "source": [
    "#定义损失函数和优化器\n",
    "loss = tf.reduce_mean(-tf.reduce_sum(y*tf.log(pre),axis=1))\n",
    "optimizer = tf.train.GradientDescentOptimizer(learning_rate).minimize(loss)"
   ]
  },
  {
   "cell_type": "code",
   "execution_count": 12,
   "metadata": {},
   "outputs": [],
   "source": [
    "correct_prediction = tf.equal(tf.argmax(pre,1),tf.argmax(y,1))\n",
    "accuracy = tf.reduce_mean(tf.cast(correct_prediction,tf.float32))"
   ]
  },
  {
   "cell_type": "code",
   "execution_count": 13,
   "metadata": {},
   "outputs": [],
   "source": [
    "#初始化会话\n",
    "sess = tf.Session()\n",
    "init = tf.global_variables_initializer()\n",
    "sess.run(init)"
   ]
  },
  {
   "cell_type": "code",
   "execution_count": 14,
   "metadata": {},
   "outputs": [
    {
     "name": "stdout",
     "output_type": "stream",
     "text": [
      "train epoch 1 loss 9.842975769638313 accuray 0.1186\n",
      "train epoch 2 loss 8.324627325618396 accuray 0.161\n",
      "train epoch 3 loss 7.23943985077244 accuray 0.1996\n",
      "train epoch 4 loss 6.379676563601798 accuray 0.2414\n",
      "train epoch 5 loss 5.676160778687632 accuray 0.2872\n",
      "train epoch 6 loss 5.105443432426397 accuray 0.3254\n",
      "train epoch 7 loss 4.639467673756736 accuray 0.3614\n",
      "train epoch 8 loss 4.264293345149088 accuray 0.3984\n",
      "train epoch 9 loss 3.9487203691987713 accuray 0.4302\n",
      "train epoch 10 loss 3.683098285806444 accuray 0.4594\n",
      "train epoch 11 loss 3.453951494563906 accuray 0.4802\n",
      "train epoch 12 loss 3.257459563120089 accuray 0.5002\n",
      "train epoch 13 loss 3.092923736332336 accuray 0.5146\n",
      "train epoch 14 loss 2.9426811967402777 accuray 0.5334\n",
      "train epoch 15 loss 2.8112783231641507 accuray 0.5484\n",
      "train epoch 16 loss 2.6953842902617713 accuray 0.5634\n",
      "train epoch 17 loss 2.5893600165845636 accuray 0.5772\n",
      "train epoch 18 loss 2.496503462634618 accuray 0.588\n",
      "train epoch 19 loss 2.4088596590146203 accuray 0.5974\n",
      "train epoch 20 loss 2.331409682691209 accuray 0.6072\n",
      "train epoch 21 loss 2.2598265697368123 accuray 0.6146\n",
      "train epoch 22 loss 2.1940142792771176 accuray 0.6248\n",
      "train epoch 23 loss 2.1345218603772147 accuray 0.6342\n",
      "train epoch 24 loss 2.076619275112646 accuray 0.6402\n",
      "train epoch 25 loss 2.0225397071747593 accuray 0.6496\n",
      "train epoch 26 loss 1.9765168263114932 accuray 0.656\n",
      "train epoch 27 loss 1.9324626529527333 accuray 0.6596\n",
      "train epoch 28 loss 1.890528811269928 accuray 0.6632\n",
      "train epoch 29 loss 1.8511108619481929 accuray 0.6694\n",
      "train epoch 30 loss 1.812764975018111 accuray 0.674\n",
      "train epoch 31 loss 1.7793200349774196 accuray 0.6792\n",
      "train epoch 32 loss 1.7458940047005391 accuray 0.6842\n",
      "train epoch 33 loss 1.7135212349193665 accuray 0.687\n",
      "train epoch 34 loss 1.6834466128876047 accuray 0.6916\n",
      "train epoch 35 loss 1.654655524377565 accuray 0.6976\n",
      "train epoch 36 loss 1.6271460068555217 accuray 0.7008\n",
      "train epoch 37 loss 1.6015334580366969 accuray 0.7056\n",
      "train epoch 38 loss 1.5770099959248092 accuray 0.7088\n",
      "train epoch 39 loss 1.5529969567570854 accuray 0.7116\n",
      "train epoch 40 loss 1.531846179643877 accuray 0.7142\n",
      "train epoch 41 loss 1.5089772912142867 accuray 0.7174\n",
      "train epoch 42 loss 1.4892710335391866 accuray 0.7202\n",
      "train epoch 43 loss 1.4706820378926706 accuray 0.7234\n",
      "train epoch 44 loss 1.4505730764925706 accuray 0.7272\n",
      "train epoch 45 loss 1.4316647391366837 accuray 0.7284\n",
      "train epoch 46 loss 1.4144065312285432 accuray 0.7318\n",
      "train epoch 47 loss 1.3981578835401605 accuray 0.7338\n",
      "train epoch 48 loss 1.3823703626708368 accuray 0.736\n",
      "train epoch 49 loss 1.365355467221168 accuray 0.7392\n",
      "train epoch 50 loss 1.3504431518963516 accuray 0.7408\n",
      "finish\n"
     ]
    }
   ],
   "source": [
    "#进行迭代训练\n",
    "for epoch in range(train_epoch):\n",
    "    for batch in range(batch_size):\n",
    "        xs,ys = mnist.train.next_batch(batch_size)\n",
    "        sess.run(optimizer,feed_dict = {x:xs,y:ys})\n",
    "    loss_,acc = sess.run([loss,accuracy],feed_dict = {x:mnist.validation.images,y:mnist.validation.labels})\n",
    "    if (epoch + 1) % display_step == 0:\n",
    "        print('train epoch' ,(epoch +1),'loss',loss_,'accuray',acc)\n",
    "print('finish')"
   ]
  },
  {
   "cell_type": "code",
   "execution_count": 18,
   "metadata": {},
   "outputs": [
    {
     "name": "stdout",
     "output_type": "stream",
     "text": [
      "0.7542\n"
     ]
    }
   ],
   "source": [
    "acc_test = sess.run(accuracy,feed_dict={x:mnist.test.images,y:mnist.test.labels})\n",
    "print(acc_test)"
   ]
  },
  {
   "cell_type": "code",
   "execution_count": 43,
   "metadata": {},
   "outputs": [
    {
     "data": {
      "image/png": "[encoded data removed]",
      "text/plain": [
       "<Figure size 432x288 with 1 Axes>"
      ]
     },
     "metadata": {
      "needs_background": "light"
     },
     "output_type": "display_data"
    },
    {
     "name": "stdout",
     "output_type": "stream",
     "text": [
      "[7]\n"
     ]
    }
   ],
   "source": [
    "images = mnist.test.images[0]\n",
    "plot_image(images)\n",
    "images = images.reshape(-1,784)\n",
    "result = sess.run(tf.argmax(pre,1),feed_dict = {x : images})\n",
    "print(result)\n"
   ]
  }
 ],
 "metadata": {
  "kernelspec": {
   "display_name": "Python 3",
   "language": "python",
   "name": "python3"
  },
  "language_info": {
   "codemirror_mode": {
    "name": "ipython",
    "version": 3
   },
   "file_extension": ".py",
   "mimetype": "text/x-python",
   "name": "python",
   "nbconvert_exporter": "python",
   "pygments_lexer": "ipython3",
   "version": "3.6.8"
  }
 },
 "nbformat": 4,
 "nbformat_minor": 2
}
