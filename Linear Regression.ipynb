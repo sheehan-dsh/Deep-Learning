{
 "cells": [
  {
   "cell_type": "code",
   "execution_count": 1,
   "metadata": {},
   "outputs": [],
   "source": [
    "#线性拟合\n",
    "import matplotlib.pyplot as plt\n",
    "import numpy as np\n",
    "import tensorflow as tf"
   ]
  },
  {
   "cell_type": "code",
   "execution_count": 6,
   "metadata": {},
   "outputs": [],
   "source": [
    "x_data = np.linspace(-1,1,100)\n",
    "y_data = 2*x_data + 1.0 + np.random.randn(*x_data.shape)\n",
    "x = tf.placeholder('float')\n",
    "y = tf.placeholder('float')\n",
    "def model(x,w,b):\n",
    "    return tf.multiply(x,w)+b\n",
    "w  = tf.Variable(1.0)\n",
    "b = tf.Variable(1.0)\n",
    "pre = model(x,w,b)\n",
    "train_epoch = 10\n",
    "learn_rate = 0.05\n",
    "loss_f = tf.reduce_mean(tf.square(y-pre))\n",
    "optimize = tf.train.GradientDescentOptimizer(learn_rate).minimize(loss_f)\n"
   ]
  },
  {
   "cell_type": "code",
   "execution_count": 9,
   "metadata": {},
   "outputs": [
    {
     "name": "stdout",
     "output_type": "stream",
     "text": [
      "0.28730088\n",
      "0.3617435\n",
      "0.3684144\n",
      "0.36898017\n",
      "0.36902767\n",
      "0.36903173\n",
      "0.3690323\n",
      "0.369032\n",
      "0.369032\n",
      "0.369032\n",
      "2.285441 1.0039815\n"
     ]
    }
   ],
   "source": [
    "with tf.Session() as sess:\n",
    "    init = tf.global_variables_initializer()\n",
    "    sess.run(init)\n",
    "    for epoch in range(train_epoch):\n",
    "        for xs,ys in zip(x_data,y_data):\n",
    "            o,loss=sess.run([optimize,loss_f],feed_dict={x:xs,y:ys})\n",
    "        print(loss)\n",
    "    print(w.eval(),b.eval())\n"
   ]
  },
  {
   "cell_type": "code",
   "execution_count": 4,
   "metadata": {},
   "outputs": [],
   "source": [
    "logdir = '/log'\n",
    "writer = tf.summary.FileWriter(logdir,tf.get_default_graph())\n",
    "writer.close()"
   ]
  },
  {
   "cell_type": "code",
   "execution_count": null,
   "metadata": {},
   "outputs": [],
   "source": []
  }
 ],
 "metadata": {
  "kernelspec": {
   "display_name": "Python 3",
   "language": "python",
   "name": "python3"
  },
  "language_info": {
   "codemirror_mode": {
    "name": "ipython",
    "version": 3
   },
   "file_extension": ".py",
   "mimetype": "text/x-python",
   "name": "python",
   "nbconvert_exporter": "python",
   "pygments_lexer": "ipython3",
   "version": "3.6.8"
  }
 },
 "nbformat": 4,
 "nbformat_minor": 2
}
